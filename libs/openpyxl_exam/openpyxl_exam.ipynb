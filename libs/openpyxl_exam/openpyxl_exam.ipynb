{
 "cells": [
  {
   "cell_type": "code",
   "execution_count": 5,
   "id": "0f2824ef",
   "metadata": {},
   "outputs": [],
   "source": [
    "from openpyxl import *\n",
    "w1 = Workbook()\n",
    "\n",
    "ws = w1.active\n",
    "w1.save(\"text.xlsx\")\n",
    "\n",
    "w2 = load_workbook('text.xlsx')\n",
    "ws2 = w2.active\n",
    "\n",
    "ws2[\"A1\"] = \"hello\"\n",
    "w2.save(\"text.xlsx\")\n",
    "\n",
    "a = \"Python\"\n",
    "for row in ws2[\"D5\":\"F8\"]:\n",
    "    for cell in row :\n",
    "        cell.value = a\n",
    "w2.save(\"text.xlsx\")        \n",
    "\n",
    "num = 1\n",
    "for row in ws2[\"A1\":\"C3\"]:\n",
    "    for cell in row :\n",
    "        cell.value = num\n",
    "        num += 1\n",
    "w2.save(\"text.xlsx\")        "
   ]
  },
  {
   "cell_type": "code",
   "execution_count": 10,
   "id": "10733b73",
   "metadata": {},
   "outputs": [],
   "source": [
    "#엑셀시트생성 설정\n",
    "\n",
    "#newws = w2.create_sheet()\n",
    "#newws.title = '마지막시트'\n",
    "w2.create_sheet(\"1번시트\",0)\n",
    "w2.save(\"text.xlsx\")"
   ]
  },
  {
   "cell_type": "code",
   "execution_count": null,
   "id": "0bc9e97e",
   "metadata": {},
   "outputs": [
    {
     "ename": "NameError",
     "evalue": "name 'item1' is not defined",
     "output_type": "error",
     "traceback": [
      "\u001b[31m---------------------------------------------------------------------------\u001b[39m",
      "\u001b[31mNameError\u001b[39m                                 Traceback (most recent call last)",
      "\u001b[36mCell\u001b[39m\u001b[36m \u001b[39m\u001b[32mIn[13]\u001b[39m\u001b[32m, line 6\u001b[39m\n\u001b[32m      3\u001b[39m items3 = {\u001b[33m\"\u001b[39m\u001b[33m품목\u001b[39m\u001b[33m\"\u001b[39m:\u001b[33m\"\u001b[39m\u001b[33m토마토\u001b[39m\u001b[33m\"\u001b[39m, \u001b[33m\"\u001b[39m\u001b[33m가격\u001b[39m\u001b[33m\"\u001b[39m : \u001b[33m\"\u001b[39m\u001b[33m5000\u001b[39m\u001b[33m\"\u001b[39m, \u001b[33m\"\u001b[39m\u001b[33m수량\u001b[39m\u001b[33m\"\u001b[39m: \u001b[32m1\u001b[39m, \u001b[33m\"\u001b[39m\u001b[33m날짜\u001b[39m\u001b[33m\"\u001b[39m:\u001b[33m\"\u001b[39m\u001b[33m2025년5월8일\u001b[39m\u001b[33m\"\u001b[39m}\n\u001b[32m      4\u001b[39m items4 = {\u001b[33m\"\u001b[39m\u001b[33m품목\u001b[39m\u001b[33m\"\u001b[39m:\u001b[33m\"\u001b[39m\u001b[33m메론\u001b[39m\u001b[33m\"\u001b[39m, \u001b[33m\"\u001b[39m\u001b[33m가격\u001b[39m\u001b[33m\"\u001b[39m : \u001b[33m\"\u001b[39m\u001b[33m10000\u001b[39m\u001b[33m\"\u001b[39m, \u001b[33m\"\u001b[39m\u001b[33m수량\u001b[39m\u001b[33m\"\u001b[39m: \u001b[32m3\u001b[39m, \u001b[33m\"\u001b[39m\u001b[33m날짜\u001b[39m\u001b[33m\"\u001b[39m:\u001b[33m\"\u001b[39m\u001b[33m2025년5월8일\u001b[39m\u001b[33m\"\u001b[39m}\n\u001b[32m----> \u001b[39m\u001b[32m6\u001b[39m items = [\u001b[43mitem1\u001b[49m, item2, item3,item4]\n\u001b[32m      8\u001b[39m \u001b[38;5;28;01mfrom\u001b[39;00m\u001b[38;5;250m \u001b[39m\u001b[34;01mopenpyxl\u001b[39;00m\u001b[38;5;250m \u001b[39m\u001b[38;5;28;01mimport\u001b[39;00m Workbook\n\u001b[32m      9\u001b[39m wb = Workbook()\n",
      "\u001b[31mNameError\u001b[39m: name 'item1' is not defined"
     ]
    }
   ],
   "source": [
    "items1 = {\"품목\":\"바나나\", \"가격\" : \"5000\", \"수량\": 1, \"날짜\":\"2025년5월8일\"}\n",
    "items2 = {\"품목\":\"딸기\", \"가격\" : \"7000\", \"수량\": 2, \"날짜\":\"2025년5월10일\"}\n",
    "items3 = {\"품목\":\"토마토\", \"가격\" : \"5000\", \"수량\": 1, \"날짜\":\"2025년5월8일\"}\n",
    "items4 = {\"품목\":\"메론\", \"가격\" : \"10000\", \"수량\": 3, \"날짜\":\"2025년5월8일\"}\n",
    "\n",
    "items = [item1, item2, item3,item4]\n",
    "\n",
    "from openpyxl import Workbook\n",
    "wb = Workbook()\n",
    "ws = wb.active\n",
    "\n",
    "ws[\"A1\"] = \"품목\"\n",
    "ws[\"B1\"] = \"가격\"\n",
    "ws[\"C1\"] = \"수량\"\n",
    "ws[\"D1\"] = \"날짜\"\n",
    "\n",
    "i = 2\n",
    "for item in items :\n",
    "    ws[\"A2\"] = item[\"품목\"]\n",
    "    ws[\"A2\"] = item[\"품목\"]\n",
    "    ws[\"A2\"] = item[\"품목\"]\n",
    "    ws[\"A2\"] = item[\"품목\"]\n",
    "    \n",
    "\n",
    "wb.save(\"test2.xlsx\")    \n",
    "\n",
    "\n",
    "\n"
   ]
  },
  {
   "cell_type": "code",
   "execution_count": null,
   "id": "1347d3ee",
   "metadata": {},
   "outputs": [],
   "source": [
    "import time\n",
    "time.sleep(5)\n",
    "print(\"출력\")"
   ]
  },
  {
   "cell_type": "code",
   "execution_count": null,
   "id": "d71208b9",
   "metadata": {},
   "outputs": [],
   "source": []
  }
 ],
 "metadata": {
  "kernelspec": {
   "display_name": "Python 3",
   "language": "python",
   "name": "python3"
  },
  "language_info": {
   "codemirror_mode": {
    "name": "ipython",
    "version": 3
   },
   "file_extension": ".py",
   "mimetype": "text/x-python",
   "name": "python",
   "nbconvert_exporter": "python",
   "pygments_lexer": "ipython3",
   "version": "3.13.3"
  }
 },
 "nbformat": 4,
 "nbformat_minor": 5
}
