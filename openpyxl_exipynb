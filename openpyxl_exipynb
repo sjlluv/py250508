{
 "cells": [
  {
   "cell_type": "code",
   "execution_count": null,
   "id": "e4ee1d1d",
   "metadata": {
    "vscode": {
     "languageId": "plaintext"
    }
   },
   "outputs": [],
   "source": [
    "from ex1 import func1, func2\n",
    "print(func1)\n"
   ]
  }
 ],
 "metadata": {
  "language_info": {
   "name": "python"
  }
 },
 "nbformat": 4,
 "nbformat_minor": 5
}
